{
 "cells": [
  {
   "cell_type": "code",
   "execution_count": null,
   "metadata": {},
   "outputs": [],
   "source": [
    "import pandas as pd\n",
    "import numpy as np\n",
    "\n",
    "def getMAE(df1, df2):\n",
    "    # 从df2中均匀抽取9个点\n",
    "    indices = np.linspace(0, len(df2) - 1, 9, dtype=int)\n",
    "    sampled_df2 = df2.iloc[indices]\n",
    "\n",
    "    # 计算x坐标的MAE\n",
    "    mae_x = ((df1['x'] - sampled_df2['x']).abs()).mean()\n",
    "    # 计算y坐标的MAE\n",
    "    mae_y = ((df1['y'] - sampled_df2['y']).abs()).mean()\n",
    "    # 计算z坐标的MAE\n",
    "    mae_z = ((df1['z'] - sampled_df2['z']).abs()).mean()\n",
    "\n",
    "    print(f\"x坐标的MAE: {mae_x}\")\n",
    "    print(f\"y坐标的MAE: {mae_y}\")\n",
    "    print(f\"z坐标的MAE: {mae_z}\")\n",
    "    print(f\"平均MAE: {(mae_x + mae_y + mae_z) / 3}\")\n",
    "\n",
    "def getMSE(df1, df2):\n",
    "    # 计算x坐标的MSE\n",
    "    mse_x = ((df1['x'] - df2['x']) ** 2).mean()\n",
    "    # 计算y坐标的MSE\n",
    "    mse_y = ((df1['y'] - df2['y']) ** 2).mean()\n",
    "    # 计算z坐标的MSE\n",
    "    mse_z = ((df1['z'] - df2['z']) ** 2).mean()\n",
    "\n",
    "    print(f\"x坐标的MSE: {mse_x}\")\n",
    "    print(f\"y坐标的MSE: {mse_y}\")\n",
    "    print(f\"z坐标的MSE: {mse_z}\")\n",
    "    print(f\"平均MSE: {(mse_x + mse_y + mse_z) / 3}\")\n",
    "\n",
    "df1 = pd.read_csv(\"方法对比/方法1结果/插值10/points.csv\")\n",
    "df2 = pd.read_csv(\"方法对比/方法1结果/插值100/points.csv\")\n",
    "\n",
    "getMAE(df1, df2)\n",
    "getMSE(df1,df2)\n",
    "    "
   ]
  },
  {
   "cell_type": "code",
   "execution_count": null,
   "metadata": {},
   "outputs": [],
   "source": [
    "df1 = pd.read_csv(\"方法对比/方法2结果/插值10/points.csv\")\n",
    "df2 = pd.read_csv(\"方法对比/方法2结果/插值100/points.csv\")\n",
    "\n",
    "getMAE(df1, df2)\n",
    "getMSE(df1,df2)\n",
    "    "
   ]
  },
  {
   "cell_type": "code",
   "execution_count": null,
   "metadata": {},
   "outputs": [],
   "source": [
    "import pandas as pd\n",
    "import numpy as np\n",
    "\n",
    "\n",
    "def getMAE(df1, df2):\n",
    "    # 计算x坐标的MAE\n",
    "    mae_x = ((df1['x'] - df2['x']).abs()).mean()\n",
    "    # 计算y坐标的MAE\n",
    "    mae_y = ((df1['y'] - df2['y']).abs()).mean()\n",
    "    # 计算z坐标的MAE\n",
    "    mae_z = ((df1['z'] - df2['z']).abs()).mean()\n",
    "\n",
    "    print(f\"x坐标的MAE: {mae_x}\")\n",
    "    print(f\"y坐标的MAE: {mae_y}\")\n",
    "    print(f\"z坐标的MAE: {mae_z}\")\n",
    "    print(f\"平均MAE: {(mae_x + mae_y + mae_z) / 3}\")\n",
    "\n",
    "\n",
    "# 示例数据，这里简单生成一些随机数据作为示例，你需要替换为真实数据\n",
    "df_99 = pd.read_csv(\"方法对比/方法1结果/插值100/points.csv\")\n",
    "df_999 = pd.read_csv(\"方法对比/方法1结果/插值1000/points.csv\")\n",
    "\n",
    "# 从 999 个点中均匀抽取 99 个点\n",
    "indices = np.linspace(0, len(df_999) - 1, 99, dtype=int)\n",
    "sampled_df_999 = df_999.iloc[indices]\n",
    "\n",
    "# 计算抽样后的 99 个点与原本 99 个点的 MAE\n",
    "getMAE(df_99, sampled_df_999)\n",
    "getMSE(df_99,sampled_df_999)\n",
    "    "
   ]
  },
  {
   "cell_type": "code",
   "execution_count": null,
   "metadata": {},
   "outputs": [],
   "source": [
    "# 示例数据，这里简单生成一些随机数据作为示例，你需要替换为真实数据\n",
    "df_99 = pd.read_csv(\"方法对比/方法2结果/插值100/points.csv\")\n",
    "df_999 = pd.read_csv(\"方法对比/方法2结果/插值1000/points.csv\")\n",
    "\n",
    "# 从 999 个点中均匀抽取 99 个点\n",
    "indices = np.linspace(0, len(df_999) - 1, 99, dtype=int)\n",
    "sampled_df_999 = df_999.iloc[indices]\n",
    "\n",
    "# 计算抽样后的 99 个点与原本 99 个点的 MAE\n",
    "getMAE(df_99, sampled_df_999)\n",
    "getMSE(df_99,sampled_df_999)"
   ]
  },
  {
   "cell_type": "code",
   "execution_count": null,
   "metadata": {},
   "outputs": [],
   "source": [
    "import pandas as pd\n",
    "import numpy as np\n",
    "\n",
    "\n",
    "# 示例数据，这里简单生成一些随机数据作为示例，你需要替换为真实数据\n",
    "df_999 = pd.read_csv(\"方法对比/方法1结果/插值1000/points.csv\")\n",
    "df_9999 = pd.read_csv(\"方法对比/方法1结果/插值10000/points.csv\")\n",
    "\n",
    "indices = np.linspace(0, len(df_9999) - 1, 999, dtype=int)\n",
    "sampled_df_9999 = df_9999.iloc[indices]\n",
    "\n",
    "getMAE(df_999, sampled_df_9999)\n",
    "getMSE(df_999,sampled_df_9999)\n",
    "    "
   ]
  },
  {
   "cell_type": "code",
   "execution_count": null,
   "metadata": {},
   "outputs": [],
   "source": [
    "# 示例数据，这里简单生成一些随机数据作为示例，你需要替换为真实数据\n",
    "df_999 = pd.read_csv(\"方法对比/方法2结果/插值1000/points.csv\")\n",
    "df_9999 = pd.read_csv(\"方法对比/方法2结果/插值10000/points.csv\")\n",
    "\n",
    "indices = np.linspace(0, len(df_9999) - 1, 999, dtype=int)\n",
    "sampled_df_9999 = df_9999.iloc[indices]\n",
    "\n",
    "getMAE(df_999, sampled_df_9999)\n",
    "getMSE(df_999,sampled_df_9999)"
   ]
  },
  {
   "cell_type": "code",
   "execution_count": null,
   "metadata": {},
   "outputs": [],
   "source": []
  }
 ],
 "metadata": {
  "kernelspec": {
   "display_name": "basicdata",
   "language": "python",
   "name": "python3"
  },
  "language_info": {
   "codemirror_mode": {
    "name": "ipython",
    "version": 3
   },
   "file_extension": ".py",
   "mimetype": "text/x-python",
   "name": "python",
   "nbconvert_exporter": "python",
   "pygments_lexer": "ipython3",
   "version": "3.12.0"
  }
 },
 "nbformat": 4,
 "nbformat_minor": 2
}
